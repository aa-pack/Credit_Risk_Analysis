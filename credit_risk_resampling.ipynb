{
 "cells": [
  {
   "cell_type": "markdown",
   "metadata": {},
   "source": [
    "# Credit Risk Resampling Techniques"
   ]
  },
  {
   "cell_type": "code",
   "execution_count": 1,
   "metadata": {},
   "outputs": [],
   "source": [
    "import warnings\n",
    "warnings.filterwarnings('ignore')"
   ]
  },
  {
   "cell_type": "code",
   "execution_count": 49,
   "metadata": {},
   "outputs": [],
   "source": [
    "import numpy as np\n",
    "import pandas as pd\n",
    "from pathlib import Path\n",
    "from collections import Counter\n",
    "import os"
   ]
  },
  {
   "cell_type": "markdown",
   "metadata": {},
   "source": [
    "# Read the CSV and Perform Basic Data Cleaning"
   ]
  },
  {
   "cell_type": "code",
   "execution_count": 52,
   "metadata": {},
   "outputs": [],
   "source": [
    "columns = [\n",
    "    \"loan_amnt\", \"int_rate\", \"installment\", \"home_ownership\",\n",
    "    \"annual_inc\", \"verification_status\", \"issue_d\", \"loan_status\",\n",
    "    \"pymnt_plan\", \"dti\", \"delinq_2yrs\", \"inq_last_6mths\",\n",
    "    \"open_acc\", \"pub_rec\", \"revol_bal\", \"total_acc\",\n",
    "    \"initial_list_status\", \"out_prncp\", \"out_prncp_inv\", \"total_pymnt\",\n",
    "    \"total_pymnt_inv\", \"total_rec_prncp\", \"total_rec_int\", \"total_rec_late_fee\",\n",
    "    \"recoveries\", \"collection_recovery_fee\", \"last_pymnt_amnt\", \"next_pymnt_d\",\n",
    "    \"collections_12_mths_ex_med\", \"policy_code\", \"application_type\", \"acc_now_delinq\",\n",
    "    \"tot_coll_amt\", \"tot_cur_bal\", \"open_acc_6m\", \"open_act_il\",\n",
    "    \"open_il_12m\", \"open_il_24m\", \"mths_since_rcnt_il\", \"total_bal_il\",\n",
    "    \"il_util\", \"open_rv_12m\", \"open_rv_24m\", \"max_bal_bc\",\n",
    "    \"all_util\", \"total_rev_hi_lim\", \"inq_fi\", \"total_cu_tl\",\n",
    "    \"inq_last_12m\", \"acc_open_past_24mths\", \"avg_cur_bal\", \"bc_open_to_buy\",\n",
    "    \"bc_util\", \"chargeoff_within_12_mths\", \"delinq_amnt\", \"mo_sin_old_il_acct\",\n",
    "    \"mo_sin_old_rev_tl_op\", \"mo_sin_rcnt_rev_tl_op\", \"mo_sin_rcnt_tl\", \"mort_acc\",\n",
    "    \"mths_since_recent_bc\", \"mths_since_recent_inq\", \"num_accts_ever_120_pd\", \"num_actv_bc_tl\",\n",
    "    \"num_actv_rev_tl\", \"num_bc_sats\", \"num_bc_tl\", \"num_il_tl\",\n",
    "    \"num_op_rev_tl\", \"num_rev_accts\", \"num_rev_tl_bal_gt_0\",\n",
    "    \"num_sats\", \"num_tl_120dpd_2m\", \"num_tl_30dpd\", \"num_tl_90g_dpd_24m\",\n",
    "    \"num_tl_op_past_12m\", \"pct_tl_nvr_dlq\", \"percent_bc_gt_75\", \"pub_rec_bankruptcies\",\n",
    "    \"tax_liens\", \"tot_hi_cred_lim\", \"total_bal_ex_mort\", \"total_bc_limit\",\n",
    "    \"total_il_high_credit_limit\", \"hardship_flag\", \"debt_settlement_flag\"\n",
    "]\n",
    "\n",
    "target = [\"loan_status\"]\n",
    "\n"
   ]
  },
  {
   "cell_type": "code",
   "execution_count": 76,
   "metadata": {},
   "outputs": [
    {
     "name": "stdout",
     "output_type": "stream",
     "text": [
      "<class 'pandas.core.frame.DataFrame'>\n",
      "RangeIndex: 68817 entries, 0 to 68816\n",
      "Data columns (total 86 columns):\n",
      "loan_amnt                     68817 non-null float64\n",
      "int_rate                      68817 non-null float64\n",
      "installment                   68817 non-null float64\n",
      "home_ownership                68817 non-null object\n",
      "annual_inc                    68817 non-null float64\n",
      "verification_status           68817 non-null object\n",
      "issue_d                       68817 non-null object\n",
      "loan_status                   68817 non-null object\n",
      "pymnt_plan                    68817 non-null object\n",
      "dti                           68817 non-null float64\n",
      "delinq_2yrs                   68817 non-null float64\n",
      "inq_last_6mths                68817 non-null float64\n",
      "open_acc                      68817 non-null float64\n",
      "pub_rec                       68817 non-null float64\n",
      "revol_bal                     68817 non-null float64\n",
      "total_acc                     68817 non-null float64\n",
      "initial_list_status           68817 non-null object\n",
      "out_prncp                     68817 non-null float64\n",
      "out_prncp_inv                 68817 non-null float64\n",
      "total_pymnt                   68817 non-null float64\n",
      "total_pymnt_inv               68817 non-null float64\n",
      "total_rec_prncp               68817 non-null float64\n",
      "total_rec_int                 68817 non-null float64\n",
      "total_rec_late_fee            68817 non-null float64\n",
      "recoveries                    68817 non-null float64\n",
      "collection_recovery_fee       68817 non-null float64\n",
      "last_pymnt_amnt               68817 non-null float64\n",
      "next_pymnt_d                  68817 non-null object\n",
      "collections_12_mths_ex_med    68817 non-null float64\n",
      "policy_code                   68817 non-null float64\n",
      "application_type              68817 non-null object\n",
      "acc_now_delinq                68817 non-null float64\n",
      "tot_coll_amt                  68817 non-null float64\n",
      "tot_cur_bal                   68817 non-null float64\n",
      "open_acc_6m                   68817 non-null float64\n",
      "open_act_il                   68817 non-null float64\n",
      "open_il_12m                   68817 non-null float64\n",
      "open_il_24m                   68817 non-null float64\n",
      "mths_since_rcnt_il            68817 non-null float64\n",
      "total_bal_il                  68817 non-null float64\n",
      "il_util                       68817 non-null float64\n",
      "open_rv_12m                   68817 non-null float64\n",
      "open_rv_24m                   68817 non-null float64\n",
      "max_bal_bc                    68817 non-null float64\n",
      "all_util                      68817 non-null float64\n",
      "total_rev_hi_lim              68817 non-null float64\n",
      "inq_fi                        68817 non-null float64\n",
      "total_cu_tl                   68817 non-null float64\n",
      "inq_last_12m                  68817 non-null float64\n",
      "acc_open_past_24mths          68817 non-null float64\n",
      "avg_cur_bal                   68817 non-null float64\n",
      "bc_open_to_buy                68817 non-null float64\n",
      "bc_util                       68817 non-null float64\n",
      "chargeoff_within_12_mths      68817 non-null float64\n",
      "delinq_amnt                   68817 non-null float64\n",
      "mo_sin_old_il_acct            68817 non-null float64\n",
      "mo_sin_old_rev_tl_op          68817 non-null float64\n",
      "mo_sin_rcnt_rev_tl_op         68817 non-null float64\n",
      "mo_sin_rcnt_tl                68817 non-null float64\n",
      "mort_acc                      68817 non-null float64\n",
      "mths_since_recent_bc          68817 non-null float64\n",
      "mths_since_recent_inq         68817 non-null float64\n",
      "num_accts_ever_120_pd         68817 non-null float64\n",
      "num_actv_bc_tl                68817 non-null float64\n",
      "num_actv_rev_tl               68817 non-null float64\n",
      "num_bc_sats                   68817 non-null float64\n",
      "num_bc_tl                     68817 non-null float64\n",
      "num_il_tl                     68817 non-null float64\n",
      "num_op_rev_tl                 68817 non-null float64\n",
      "num_rev_accts                 68817 non-null float64\n",
      "num_rev_tl_bal_gt_0           68817 non-null float64\n",
      "num_sats                      68817 non-null float64\n",
      "num_tl_120dpd_2m              68817 non-null float64\n",
      "num_tl_30dpd                  68817 non-null float64\n",
      "num_tl_90g_dpd_24m            68817 non-null float64\n",
      "num_tl_op_past_12m            68817 non-null float64\n",
      "pct_tl_nvr_dlq                68817 non-null float64\n",
      "percent_bc_gt_75              68817 non-null float64\n",
      "pub_rec_bankruptcies          68817 non-null float64\n",
      "tax_liens                     68817 non-null float64\n",
      "tot_hi_cred_lim               68817 non-null float64\n",
      "total_bal_ex_mort             68817 non-null float64\n",
      "total_bc_limit                68817 non-null float64\n",
      "total_il_high_credit_limit    68817 non-null float64\n",
      "hardship_flag                 68817 non-null object\n",
      "debt_settlement_flag          68817 non-null object\n",
      "dtypes: float64(76), object(10)\n",
      "memory usage: 45.2+ MB\n"
     ]
    }
   ],
   "source": [
    "# Load the data\n",
    "#file_path = Path('../Resources/LoanStats_2019Q1.csv.zip')\n",
    "df = pd.read_csv('C://Users/Willi/Desktop/machine_learning_homework/Resources/LoanStats_2019Q1.csv.zip', skiprows=1)[:-2]\n",
    "df = df.loc[:, columns].copy()\n",
    "\n",
    "# Drop the null columns where all values are null\n",
    "df = df.dropna(axis='columns', how='all')\n",
    "\n",
    "# Drop the null rows\n",
    "df = df.dropna()\n",
    "\n",
    "# Remove the `Issued` loan status\n",
    "issued_mask = df['loan_status'] != 'Issued'\n",
    "df = df.loc[issued_mask]\n",
    "\n",
    "# convert interest rate to numerical\n",
    "df['int_rate'] = df['int_rate'].str.replace('%', '')\n",
    "df['int_rate'] = df['int_rate'].astype('float') / 100\n",
    "\n",
    "\n",
    "# Convert the target column values to low_risk and high_risk based on their values\n",
    "x = {'Current': 'low_risk'}   \n",
    "df = df.replace(x)\n",
    "\n",
    "x = dict.fromkeys(['Late (31-120 days)', 'Late (16-30 days)', 'Default', 'In Grace Period'], 'high_risk')    \n",
    "df = df.replace(x)\n",
    "\n",
    "df.reset_index(inplace=True, drop=True)\n",
    "\n",
    "\n",
    "df.describe()\n",
    "df.info()"
   ]
  },
  {
   "cell_type": "code",
   "execution_count": 85,
   "metadata": {},
   "outputs": [
    {
     "data": {
      "text/plain": [
       "Individual    59206\n",
       "Joint App      9611\n",
       "Name: application_type, dtype: int64"
      ]
     },
     "execution_count": 85,
     "metadata": {},
     "output_type": "execute_result"
    }
   ],
   "source": [
    "#df.home_ownership.value_counts()\n",
    "#df.verification_status.value_counts()\n",
    "#df.issue_d.value_counts()\n",
    "#df.loan_status.value_counts()\n",
    "#df.pymnt_plan.value_counts()\n",
    "#df.initial_list_status.value_counts()\n",
    "#df.next_pymnt_d.value_counts()\n",
    "df.application_type.value_counts()\n",
    "#df.hardship_flag.value_counts()\n",
    "#df.debt_settlement_flag.value_counts()"
   ]
  },
  {
   "cell_type": "markdown",
   "metadata": {},
   "source": [
    "# Split the Data into Training and Testing"
   ]
  },
  {
   "cell_type": "code",
   "execution_count": 45,
   "metadata": {},
   "outputs": [],
   "source": [
    "# Create our features\n",
    "X = df.drop(columns = 'loan_status')\n",
    "\n",
    "# Create our target\n",
    "y = df.loan_status"
   ]
  },
  {
   "cell_type": "code",
   "execution_count": 86,
   "metadata": {},
   "outputs": [
    {
     "name": "stdout",
     "output_type": "stream",
     "text": [
      "<class 'pandas.core.frame.DataFrame'>\n",
      "RangeIndex: 68817 entries, 0 to 68816\n",
      "Data columns (total 85 columns):\n",
      "loan_amnt                     68817 non-null float64\n",
      "int_rate                      68817 non-null float64\n",
      "installment                   68817 non-null float64\n",
      "home_ownership                68817 non-null object\n",
      "annual_inc                    68817 non-null float64\n",
      "verification_status           68817 non-null object\n",
      "issue_d                       68817 non-null object\n",
      "pymnt_plan                    68817 non-null object\n",
      "dti                           68817 non-null float64\n",
      "delinq_2yrs                   68817 non-null float64\n",
      "inq_last_6mths                68817 non-null float64\n",
      "open_acc                      68817 non-null float64\n",
      "pub_rec                       68817 non-null float64\n",
      "revol_bal                     68817 non-null float64\n",
      "total_acc                     68817 non-null float64\n",
      "initial_list_status           68817 non-null object\n",
      "out_prncp                     68817 non-null float64\n",
      "out_prncp_inv                 68817 non-null float64\n",
      "total_pymnt                   68817 non-null float64\n",
      "total_pymnt_inv               68817 non-null float64\n",
      "total_rec_prncp               68817 non-null float64\n",
      "total_rec_int                 68817 non-null float64\n",
      "total_rec_late_fee            68817 non-null float64\n",
      "recoveries                    68817 non-null float64\n",
      "collection_recovery_fee       68817 non-null float64\n",
      "last_pymnt_amnt               68817 non-null float64\n",
      "next_pymnt_d                  68817 non-null object\n",
      "collections_12_mths_ex_med    68817 non-null float64\n",
      "policy_code                   68817 non-null float64\n",
      "application_type              68817 non-null object\n",
      "acc_now_delinq                68817 non-null float64\n",
      "tot_coll_amt                  68817 non-null float64\n",
      "tot_cur_bal                   68817 non-null float64\n",
      "open_acc_6m                   68817 non-null float64\n",
      "open_act_il                   68817 non-null float64\n",
      "open_il_12m                   68817 non-null float64\n",
      "open_il_24m                   68817 non-null float64\n",
      "mths_since_rcnt_il            68817 non-null float64\n",
      "total_bal_il                  68817 non-null float64\n",
      "il_util                       68817 non-null float64\n",
      "open_rv_12m                   68817 non-null float64\n",
      "open_rv_24m                   68817 non-null float64\n",
      "max_bal_bc                    68817 non-null float64\n",
      "all_util                      68817 non-null float64\n",
      "total_rev_hi_lim              68817 non-null float64\n",
      "inq_fi                        68817 non-null float64\n",
      "total_cu_tl                   68817 non-null float64\n",
      "inq_last_12m                  68817 non-null float64\n",
      "acc_open_past_24mths          68817 non-null float64\n",
      "avg_cur_bal                   68817 non-null float64\n",
      "bc_open_to_buy                68817 non-null float64\n",
      "bc_util                       68817 non-null float64\n",
      "chargeoff_within_12_mths      68817 non-null float64\n",
      "delinq_amnt                   68817 non-null float64\n",
      "mo_sin_old_il_acct            68817 non-null float64\n",
      "mo_sin_old_rev_tl_op          68817 non-null float64\n",
      "mo_sin_rcnt_rev_tl_op         68817 non-null float64\n",
      "mo_sin_rcnt_tl                68817 non-null float64\n",
      "mort_acc                      68817 non-null float64\n",
      "mths_since_recent_bc          68817 non-null float64\n",
      "mths_since_recent_inq         68817 non-null float64\n",
      "num_accts_ever_120_pd         68817 non-null float64\n",
      "num_actv_bc_tl                68817 non-null float64\n",
      "num_actv_rev_tl               68817 non-null float64\n",
      "num_bc_sats                   68817 non-null float64\n",
      "num_bc_tl                     68817 non-null float64\n",
      "num_il_tl                     68817 non-null float64\n",
      "num_op_rev_tl                 68817 non-null float64\n",
      "num_rev_accts                 68817 non-null float64\n",
      "num_rev_tl_bal_gt_0           68817 non-null float64\n",
      "num_sats                      68817 non-null float64\n",
      "num_tl_120dpd_2m              68817 non-null float64\n",
      "num_tl_30dpd                  68817 non-null float64\n",
      "num_tl_90g_dpd_24m            68817 non-null float64\n",
      "num_tl_op_past_12m            68817 non-null float64\n",
      "pct_tl_nvr_dlq                68817 non-null float64\n",
      "percent_bc_gt_75              68817 non-null float64\n",
      "pub_rec_bankruptcies          68817 non-null float64\n",
      "tax_liens                     68817 non-null float64\n",
      "tot_hi_cred_lim               68817 non-null float64\n",
      "total_bal_ex_mort             68817 non-null float64\n",
      "total_bc_limit                68817 non-null float64\n",
      "total_il_high_credit_limit    68817 non-null float64\n",
      "hardship_flag                 68817 non-null object\n",
      "debt_settlement_flag          68817 non-null object\n",
      "dtypes: float64(76), object(9)\n",
      "memory usage: 44.6+ MB\n"
     ]
    }
   ],
   "source": [
    "X.info()"
   ]
  },
  {
   "cell_type": "code",
   "execution_count": 7,
   "metadata": {},
   "outputs": [
    {
     "data": {
      "text/plain": [
       "low_risk     68470\n",
       "high_risk      347\n",
       "Name: loan_status, dtype: int64"
      ]
     },
     "execution_count": 7,
     "metadata": {},
     "output_type": "execute_result"
    }
   ],
   "source": [
    "# Check the balance of our target values\n",
    "y['loan_status'].value_counts()"
   ]
  },
  {
   "cell_type": "code",
   "execution_count": 8,
   "metadata": {},
   "outputs": [],
   "source": [
    "# Create X_train, X_test, y_train, y_test\n",
    "# YOUR CODE HERE"
   ]
  },
  {
   "cell_type": "markdown",
   "metadata": {},
   "source": [
    "# Oversampling\n",
    "\n",
    "In this section, you will compare two oversampling algorithms to determine which algorithm results in the best performance. You will oversample the data using the naive random oversampling algorithm and the SMOTE algorithm. For each algorithm, be sure to complete the folliowing steps:\n",
    "\n",
    "1. View the count of the target classes using `Counter` from the collections library. \n",
    "3. Use the resampled data to train a logistic regression model.\n",
    "3. Calculate the balanced accuracy score from sklearn.metrics.\n",
    "4. Print the confusion matrix from sklearn.metrics.\n",
    "5. Generate a classication report using the `imbalanced_classification_report` from imbalanced-learn.\n",
    "\n",
    "Note: Use a random state of 1 for each sampling algorithm to ensure consistency between tests"
   ]
  },
  {
   "cell_type": "markdown",
   "metadata": {},
   "source": [
    "### Naive Random Oversampling"
   ]
  },
  {
   "cell_type": "code",
   "execution_count": 9,
   "metadata": {},
   "outputs": [
    {
     "data": {
      "text/plain": [
       "Counter({'low_risk': 51366, 'high_risk': 51366})"
      ]
     },
     "execution_count": 9,
     "metadata": {},
     "output_type": "execute_result"
    }
   ],
   "source": [
    "# Resample the training data with the RandomOversampler\n",
    "# YOUR CODE HERE"
   ]
  },
  {
   "cell_type": "code",
   "execution_count": 10,
   "metadata": {},
   "outputs": [
    {
     "data": {
      "text/plain": [
       "LogisticRegression(C=1.0, class_weight=None, dual=False, fit_intercept=True,\n",
       "          intercept_scaling=1, max_iter=100, multi_class='warn',\n",
       "          n_jobs=None, penalty='l2', random_state=1, solver='warn',\n",
       "          tol=0.0001, verbose=0, warm_start=False)"
      ]
     },
     "execution_count": 10,
     "metadata": {},
     "output_type": "execute_result"
    }
   ],
   "source": [
    "# Train the Logistic Regression model using the resampled data\n",
    "# YOUR CODE HERE"
   ]
  },
  {
   "cell_type": "code",
   "execution_count": 11,
   "metadata": {},
   "outputs": [
    {
     "data": {
      "text/plain": [
       "0.7163908158823367"
      ]
     },
     "execution_count": 11,
     "metadata": {},
     "output_type": "execute_result"
    }
   ],
   "source": [
    "# Calculated the balanced accuracy score\n",
    "# YOUR CODE HERE"
   ]
  },
  {
   "cell_type": "code",
   "execution_count": 12,
   "metadata": {},
   "outputs": [
    {
     "data": {
      "text/plain": [
       "array([[   73,    28],\n",
       "       [ 4960, 12144]])"
      ]
     },
     "execution_count": 12,
     "metadata": {},
     "output_type": "execute_result"
    }
   ],
   "source": [
    "# Display the confusion matrix\n",
    "# YOUR CODE HERE"
   ]
  },
  {
   "cell_type": "code",
   "execution_count": 13,
   "metadata": {},
   "outputs": [
    {
     "name": "stdout",
     "output_type": "stream",
     "text": [
      "                   pre       rec       spe        f1       geo       iba       sup\n",
      "\n",
      "  high_risk       0.01      0.72      0.71      0.03      0.72      0.51       101\n",
      "   low_risk       1.00      0.71      0.72      0.83      0.72      0.51     17104\n",
      "\n",
      "avg / total       0.99      0.71      0.72      0.82      0.72      0.51     17205\n",
      "\n"
     ]
    }
   ],
   "source": [
    "# Print the imbalanced classification report\n",
    "# YOUR CODE HERE"
   ]
  },
  {
   "cell_type": "markdown",
   "metadata": {},
   "source": [
    "### SMOTE Oversampling"
   ]
  },
  {
   "cell_type": "code",
   "execution_count": null,
   "metadata": {},
   "outputs": [
    {
     "data": {
      "text/plain": [
       "Counter({'low_risk': 51366, 'high_risk': 51366})"
      ]
     },
     "execution_count": 14,
     "metadata": {},
     "output_type": "execute_result"
    }
   ],
   "source": [
    "# Resample the training data with SMOTE\n",
    "# YOUR CODE HERE"
   ]
  },
  {
   "cell_type": "code",
   "execution_count": null,
   "metadata": {},
   "outputs": [
    {
     "data": {
      "text/plain": [
       "LogisticRegression(C=1.0, class_weight=None, dual=False, fit_intercept=True,\n",
       "          intercept_scaling=1, max_iter=100, multi_class='warn',\n",
       "          n_jobs=None, penalty='l2', random_state=1, solver='warn',\n",
       "          tol=0.0001, verbose=0, warm_start=False)"
      ]
     },
     "execution_count": 15,
     "metadata": {},
     "output_type": "execute_result"
    }
   ],
   "source": [
    "# Train the Logistic Regression model using the resampled data\n",
    "# YOUR CODE HERE"
   ]
  },
  {
   "cell_type": "code",
   "execution_count": null,
   "metadata": {},
   "outputs": [
    {
     "data": {
      "text/plain": [
       "0.7001170474858525"
      ]
     },
     "execution_count": 16,
     "metadata": {},
     "output_type": "execute_result"
    }
   ],
   "source": [
    "# Calculated the balanced accuracy score\n",
    "# YOUR CODE HERE"
   ]
  },
  {
   "cell_type": "code",
   "execution_count": null,
   "metadata": {},
   "outputs": [
    {
     "data": {
      "text/plain": [
       "array([[   71,    30],\n",
       "       [ 5178, 11926]])"
      ]
     },
     "execution_count": 17,
     "metadata": {},
     "output_type": "execute_result"
    }
   ],
   "source": [
    "# Display the confusion matrix\n",
    "# YOUR CODE HERE"
   ]
  },
  {
   "cell_type": "code",
   "execution_count": null,
   "metadata": {},
   "outputs": [
    {
     "name": "stdout",
     "output_type": "stream",
     "text": [
      "                   pre       rec       spe        f1       geo       iba       sup\n",
      "\n",
      "  high_risk       0.01      0.70      0.70      0.03      0.70      0.49       101\n",
      "   low_risk       1.00      0.70      0.70      0.82      0.70      0.49     17104\n",
      "\n",
      "avg / total       0.99      0.70      0.70      0.82      0.70      0.49     17205\n",
      "\n"
     ]
    }
   ],
   "source": [
    "# Print the imbalanced classification report\n",
    "# YOUR CODE HERE"
   ]
  },
  {
   "cell_type": "markdown",
   "metadata": {},
   "source": [
    "# Undersampling\n",
    "\n",
    "In this section, you will test an undersampling algorithms to determine which algorithm results in the best performance compared to the oversampling algorithms above. You will undersample the data using the Cluster Centroids algorithm and complete the folliowing steps:\n",
    "\n",
    "1. View the count of the target classes using `Counter` from the collections library. \n",
    "3. Use the resampled data to train a logistic regression model.\n",
    "3. Calculate the balanced accuracy score from sklearn.metrics.\n",
    "4. Print the confusion matrix from sklearn.metrics.\n",
    "5. Generate a classication report using the `imbalanced_classification_report` from imbalanced-learn.\n",
    "\n",
    "Note: Use a random state of 1 for each sampling algorithm to ensure consistency between tests"
   ]
  },
  {
   "cell_type": "code",
   "execution_count": null,
   "metadata": {},
   "outputs": [
    {
     "data": {
      "text/plain": [
       "Counter({'high_risk': 246, 'low_risk': 246})"
      ]
     },
     "execution_count": 19,
     "metadata": {},
     "output_type": "execute_result"
    }
   ],
   "source": [
    "# Resample the data using the ClusterCentroids resampler\n",
    "# YOUR CODE HERE"
   ]
  },
  {
   "cell_type": "code",
   "execution_count": null,
   "metadata": {},
   "outputs": [
    {
     "data": {
      "text/plain": [
       "LogisticRegression(C=1.0, class_weight=None, dual=False, fit_intercept=True,\n",
       "          intercept_scaling=1, max_iter=100, multi_class='warn',\n",
       "          n_jobs=None, penalty='l2', random_state=1, solver='warn',\n",
       "          tol=0.0001, verbose=0, warm_start=False)"
      ]
     },
     "execution_count": 20,
     "metadata": {},
     "output_type": "execute_result"
    }
   ],
   "source": [
    "# Train the Logistic Regression model using the resampled data\n",
    "# YOUR CODE HERE"
   ]
  },
  {
   "cell_type": "code",
   "execution_count": null,
   "metadata": {},
   "outputs": [
    {
     "data": {
      "text/plain": [
       "0.6433412021043078"
      ]
     },
     "execution_count": 21,
     "metadata": {},
     "output_type": "execute_result"
    }
   ],
   "source": [
    "# Calculated the balanced accuracy score\n",
    "# YOUR CODE HERE"
   ]
  },
  {
   "cell_type": "code",
   "execution_count": null,
   "metadata": {},
   "outputs": [
    {
     "data": {
      "text/plain": [
       "array([[  82,   19],\n",
       "       [8983, 8121]])"
      ]
     },
     "execution_count": 22,
     "metadata": {},
     "output_type": "execute_result"
    }
   ],
   "source": [
    "# Display the confusion matrix\n",
    "# YOUR CODE HERE"
   ]
  },
  {
   "cell_type": "code",
   "execution_count": null,
   "metadata": {},
   "outputs": [
    {
     "name": "stdout",
     "output_type": "stream",
     "text": [
      "                   pre       rec       spe        f1       geo       iba       sup\n",
      "\n",
      "  high_risk       0.01      0.81      0.47      0.02      0.62      0.40       101\n",
      "   low_risk       1.00      0.47      0.81      0.64      0.62      0.37     17104\n",
      "\n",
      "avg / total       0.99      0.48      0.81      0.64      0.62      0.37     17205\n",
      "\n"
     ]
    }
   ],
   "source": [
    "# Print the imbalanced classification report\n",
    "# YOUR CODE HERE"
   ]
  },
  {
   "cell_type": "markdown",
   "metadata": {},
   "source": [
    "# Combination (Over and Under) Sampling\n",
    "\n",
    "In this section, you will test a combination over- and under-sampling algorithm to determine if the algorithm results in the best performance compared to the other sampling algorithms above. You will resample the data using the SMOTEENN algorithm and complete the folliowing steps:\n",
    "\n",
    "1. View the count of the target classes using `Counter` from the collections library. \n",
    "3. Use the resampled data to train a logistic regression model.\n",
    "3. Calculate the balanced accuracy score from sklearn.metrics.\n",
    "4. Print the confusion matrix from sklearn.metrics.\n",
    "5. Generate a classication report using the `imbalanced_classification_report` from imbalanced-learn.\n",
    "\n",
    "Note: Use a random state of 1 for each sampling algorithm to ensure consistency between tests"
   ]
  },
  {
   "cell_type": "code",
   "execution_count": null,
   "metadata": {},
   "outputs": [
    {
     "data": {
      "text/plain": [
       "Counter({'high_risk': 51361, 'low_risk': 46653})"
      ]
     },
     "execution_count": 24,
     "metadata": {},
     "output_type": "execute_result"
    }
   ],
   "source": [
    "# Resample the training data with SMOTEENN\n",
    "# YOUR CODE HERE"
   ]
  },
  {
   "cell_type": "code",
   "execution_count": null,
   "metadata": {},
   "outputs": [
    {
     "data": {
      "text/plain": [
       "LogisticRegression(C=1.0, class_weight=None, dual=False, fit_intercept=True,\n",
       "          intercept_scaling=1, max_iter=100, multi_class='warn',\n",
       "          n_jobs=None, penalty='l2', random_state=1, solver='warn',\n",
       "          tol=0.0001, verbose=0, warm_start=False)"
      ]
     },
     "execution_count": 25,
     "metadata": {},
     "output_type": "execute_result"
    }
   ],
   "source": [
    "# Train the Logistic Regression model using the resampled data\n",
    "# YOUR CODE HERE"
   ]
  },
  {
   "cell_type": "code",
   "execution_count": null,
   "metadata": {},
   "outputs": [
    {
     "data": {
      "text/plain": [
       "0.69732081662329"
      ]
     },
     "execution_count": 26,
     "metadata": {},
     "output_type": "execute_result"
    }
   ],
   "source": [
    "# Calculated the balanced accuracy score\n",
    "# YOUR CODE HERE"
   ]
  },
  {
   "cell_type": "code",
   "execution_count": null,
   "metadata": {},
   "outputs": [
    {
     "data": {
      "text/plain": [
       "array([[   72,    29],\n",
       "       [ 5443, 11661]])"
      ]
     },
     "execution_count": 27,
     "metadata": {},
     "output_type": "execute_result"
    }
   ],
   "source": [
    "# Display the confusion matrix\n",
    "# YOUR CODE HERE"
   ]
  },
  {
   "cell_type": "code",
   "execution_count": null,
   "metadata": {},
   "outputs": [
    {
     "name": "stdout",
     "output_type": "stream",
     "text": [
      "                   pre       rec       spe        f1       geo       iba       sup\n",
      "\n",
      "  high_risk       0.01      0.71      0.68      0.03      0.70      0.49       101\n",
      "   low_risk       1.00      0.68      0.71      0.81      0.70      0.48     17104\n",
      "\n",
      "avg / total       0.99      0.68      0.71      0.81      0.70      0.48     17205\n",
      "\n"
     ]
    }
   ],
   "source": [
    "# Print the imbalanced classification report\n",
    "# YOUR CODE HERE"
   ]
  },
  {
   "cell_type": "code",
   "execution_count": null,
   "metadata": {},
   "outputs": [],
   "source": []
  }
 ],
 "metadata": {
  "kernelspec": {
   "display_name": "Python 3",
   "language": "python",
   "name": "python3"
  },
  "language_info": {
   "codemirror_mode": {
    "name": "ipython",
    "version": 3
   },
   "file_extension": ".py",
   "mimetype": "text/x-python",
   "name": "python",
   "nbconvert_exporter": "python",
   "pygments_lexer": "ipython3",
   "version": "3.7.3"
  }
 },
 "nbformat": 4,
 "nbformat_minor": 4
}
